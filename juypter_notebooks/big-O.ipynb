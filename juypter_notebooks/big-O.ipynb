{
 "cells": [
  {
   "cell_type": "code",
   "execution_count": 1,
   "metadata": {},
   "outputs": [],
   "source": [
    "import pprint\n",
    "import numpy as np\n",
    "from memory_profiler import profile\n",
    "import matplotlib.pyplot as plt\n",
    "import sys\n",
    "sys.path.append('../')\n",
    "from real_time_deanonymization import get_frames\n"
   ]
  },
  {
   "cell_type": "markdown",
   "metadata": {},
   "source": [
    "# Timing of algorithm by increasing packet number "
   ]
  },
  {
   "cell_type": "code",
   "execution_count": 2,
   "metadata": {},
   "outputs": [],
   "source": [
    "def run_test(number_of_packets):\n",
    "    results = []\n",
    "    for x in number_of_packets:\n",
    "        result  = %timeit -r 3 -n 7 -c -o get_frames(x); \n",
    "        results.append(result)\n",
    "    return results \n",
    "    "
   ]
  },
  {
   "cell_type": "code",
   "execution_count": 3,
   "metadata": {},
   "outputs": [
    {
     "name": "stdout",
     "output_type": "stream",
     "text": [
      "154 ms ± 4.75 ms per loop (mean ± std. dev. of 3 runs, 7 loops each)\n",
      "174 ms ± 1.86 ms per loop (mean ± std. dev. of 3 runs, 7 loops each)\n",
      "209 ms ± 2.76 ms per loop (mean ± std. dev. of 3 runs, 7 loops each)\n",
      "286 ms ± 4.9 ms per loop (mean ± std. dev. of 3 runs, 7 loops each)\n",
      "488 ms ± 7.45 ms per loop (mean ± std. dev. of 3 runs, 7 loops each)\n",
      "768 ms ± 4.67 ms per loop (mean ± std. dev. of 3 runs, 7 loops each)\n",
      "1.03 s ± 1.94 ms per loop (mean ± std. dev. of 3 runs, 7 loops each)\n",
      "1.26 s ± 4.18 ms per loop (mean ± std. dev. of 3 runs, 7 loops each)\n",
      "1.84 s ± 52.4 ms per loop (mean ± std. dev. of 3 runs, 7 loops each)\n",
      "2.47 s ± 82.6 ms per loop (mean ± std. dev. of 3 runs, 7 loops each)\n",
      "2.89 s ± 166 ms per loop (mean ± std. dev. of 3 runs, 7 loops each)\n",
      "3.89 s ± 51.9 ms per loop (mean ± std. dev. of 3 runs, 7 loops each)\n",
      "Worst case times are [0.15973871428571426, 0.17625171428571423, 0.21213899999999977, 0.2922299999999997, 0.49863200000000013, 0.7708189999999989, 1.0294490000000007, 1.2598535714285706, 1.9175602857142857, 2.5880171428571423, 3.123898285714286, 3.960005428571431]\n"
     ]
    },
    {
     "data": {
      "image/png": "[encoded data removed]",
      "text/plain": [
       "<Figure size 720x288 with 2 Axes>"
      ]
     },
     "metadata": {
      "needs_background": "light"
     },
     "output_type": "display_data"
    }
   ],
   "source": [
    "\n",
    "\n",
    "number_of_packets = [1000,5000,10000,20000,30000,40000,50000,60000\n",
    "                    ,70000,80000,90000,100000];\n",
    "\n",
    "#number_of_packets = [110000,120000,130000,140000];\n",
    "\n",
    "results = run_test(number_of_packets)\n",
    "\n",
    "worst_case_times = [x.worst for x in results]\n",
    "stdev = [x.stdev for x in results]\n",
    "\n",
    "print(\"Worst case times are {}\".format(worst_case_times))\n",
    "\n",
    "fig, axs = plt.subplots(ncols = 2,nrows = 1, figsize=(10,4),squeeze=False)\n",
    "axs[0][0].plot(number_of_packets, worst_case_times)\n",
    "axs[0][0].set_title('Execution time vs number of Probe Requests')\n",
    "axs[0][0].set_xlabel(\"Number of Probe Requests\")\n",
    "axs[0][0].set_ylabel(\"Time (ms)\");\n",
    "\n",
    "axs[0][1].plot(number_of_packets, stdev)\n",
    "axs[0][1].set_title('Stantard Deviation vs number of packets')\n",
    "axs[0][1].set_xlabel(\"Number of Probe Requests\")\n",
    "axs[0][1].set_ylabel(\"Stantard Deviation\");\n"
   ]
  },
  {
   "cell_type": "code",
   "execution_count": 26,
   "metadata": {
    "scrolled": true
   },
   "outputs": [
    {
     "name": "stdout",
     "output_type": "stream",
     "text": [
      "[0.15735442857142853, 0.17530771428571437, 0.2194140000000002, 0.29061457142857144, 0.5484042857142859, 0.9639532857142855, 1.3933472857142846, 1.6625549999999996, 2.5135095714285733, 3.3764679999999965, 3.8242902857142838, 4.521226428571424]\n"
     ]
    },
    {
     "data": {
      "text/plain": [
       "<matplotlib.legend.Legend at 0x7fa205731160>"
      ]
     },
     "execution_count": 26,
     "metadata": {},
     "output_type": "execute_result"
    }
   ],
   "source": [
    "%matplotlib qt\n",
    "print(worst_case_times)\n",
    "X = np.linspace(1000,100000,20)\n",
    "y = [6.029e-10*(x**2) + -1.222e-05*x +0.2793 for x in X]\n",
    "\n",
    "\n",
    "plt.plot(number_of_packets, worst_case_times,'rx',label=\"Timing Data\")\n",
    "plt.plot(X,y,'b',label=\"Fit curve\")\n",
    "plt.title('Execution time vs number of Probe Requests')\n",
    "plt.xlabel(\"Number of Probe Requests\")\n",
    "plt.ylabel(\"Time (seconds)\");\n",
    "plt.legend(bbox_to_anchor=(1, 1),\n",
    "           bbox_transform=plt.gcf().transFigure)\n",
    "#plt.plot(number_of_packets, stdev)\n",
    "#plt.set_title('Stantard Deviation vs number of packets')\n",
    "#plt.set_xlabel(\"Number of Packets\")\n",
    "#plt.set_ylabel(\"Stantard Deviation\");"
   ]
  },
  {
   "cell_type": "code",
   "execution_count": null,
   "metadata": {},
   "outputs": [],
   "source": [
    "number_of_packets = [x for x in range(5000,5010)]\n",
    "results = run_test(number_of_packets)\n",
    "worst_case_times = [x.worst for x in results]\n",
    "stdev = [x.stdev for x in results]\n",
    "\n",
    "plt.figure()\n",
    "plt.title(\"Stantard Deviation vs number of packets\")\n",
    "plt.plot(number_of_packets, worst_case_times, stdev, linestyle='None',capsize=10, fmt=\"o\")\n",
    "plt.xlabel(\"Number of Packets\")\n",
    "\n"
   ]
  },
  {
   "cell_type": "markdown",
   "metadata": {},
   "source": []
  },
  {
   "cell_type": "markdown",
   "metadata": {
    "collapsed": true
   },
   "source": [
    "# Memory profiling by increasing number of packets"
   ]
  },
  {
   "cell_type": "code",
   "execution_count": 33,
   "metadata": {},
   "outputs": [
    {
     "name": "stdout",
     "output_type": "stream",
     "text": [
      "The memory_profiler extension is already loaded. To reload it, use:\n",
      "  %reload_ext memory_profiler\n",
      "peak memory: 225.86 MiB, increment: 0.02 MiB\n",
      "peak memory: 225.75 MiB, increment: 0.40 MiB\n",
      "peak memory: 225.75 MiB, increment: 0.00 MiB\n",
      "peak memory: 235.50 MiB, increment: 9.75 MiB\n",
      "peak memory: 246.70 MiB, increment: 19.94 MiB\n",
      "peak memory: 257.75 MiB, increment: 30.25 MiB\n",
      "peak memory: 268.75 MiB, increment: 40.16 MiB\n",
      "peak memory: 280.00 MiB, increment: 50.53 MiB\n",
      "peak memory: 295.24 MiB, increment: 65.74 MiB\n",
      "peak memory: 310.23 MiB, increment: 75.48 MiB\n",
      "peak memory: 309.28 MiB, increment: 70.30 MiB\n",
      "peak memory: 304.63 MiB, increment: 97.11 MiB\n"
     ]
    }
   ],
   "source": [
    "%load_ext memory_profiler\n",
    "number_of_packets = [1000,5000,10000,20000,30000,40000,50000,60000\n",
    "                    ,70000,80000,90000,100000];\n",
    "\n",
    "results = []\n",
    "for x in number_of_packets:\n",
    "    result  =  %memit -o -r 7 get_frames(x); \n",
    "    results.append(result)"
   ]
  },
  {
   "cell_type": "code",
   "execution_count": 6,
   "metadata": {},
   "outputs": [
    {
     "data": {
      "text/plain": [
       "<BarContainer object of 12 artists>"
      ]
     },
     "execution_count": 6,
     "metadata": {},
     "output_type": "execute_result"
    },
    {
     "data": {
      "image/png": "[encoded data removed]",
      "text/plain": [
       "<Figure size 1440x216 with 1 Axes>"
      ]
     },
     "metadata": {
      "needs_background": "light"
     },
     "output_type": "display_data"
    }
   ],
   "source": [
    "memory_usage = [(np.array(x.mem_usage).mean() - x.baseline) for x in results]\n",
    "#plt.plot(number_of_packets, memory_usage)\n",
    "plt.figure(figsize=(20, 3))  \n",
    "plt.bar([str(x)for x in number_of_packets],memory_usage, alpha=0.5)"
   ]
  },
  {
   "cell_type": "code",
   "execution_count": 36,
   "metadata": {
    "scrolled": true
   },
   "outputs": [
    {
     "name": "stdout",
     "output_type": "stream",
     "text": [
      "[225.85546875, 225.75390625, 225.75390625, 235.47767857142858, 246.64341517857142, 257.75390625, 268.75390625, 280.00167410714283, 295.09765625, 310.21205357142856, 294.70479910714283, 304.54185267857144]\n",
      "225.35546875\n"
     ]
    }
   ],
   "source": [
    "%matplotlib qt\n",
    "\n",
    "X = np.linspace(1000,100000,20)\n",
    "y = [0.0009259*x +221.3 for x in X]\n",
    "memory_usage = [np.array(x.mem_usage).mean() for x in results]\n",
    "plt.plot(number_of_packets, memory_usage,'rx',label=\"Memory Data\")\n",
    "plt.plot(X,y,'b',label=\"Fit line\")\n",
    "plt.legend(bbox_to_anchor=(1, 1),\n",
    "           bbox_transform=plt.gcf().transFigure)\n",
    "print(memory_usage)\n",
    "print(results[1].baseline)"
   ]
  },
  {
   "cell_type": "markdown",
   "metadata": {},
   "source": [
    "# Time-based memory usage"
   ]
  },
  {
   "cell_type": "code",
   "execution_count": 134,
   "metadata": {
    "collapsed": true
   },
   "outputs": [
    {
     "name": "stdout",
     "output_type": "stream",
     "text": [
      "1\n",
      "mprof: Sampling memory every 0.1s\n",
      "running as a Python program...\n",
      "5\n",
      "mprof: Sampling memory every 0.1s\n",
      "running as a Python program...\n",
      "10\n",
      "mprof: Sampling memory every 0.1s\n",
      "running as a Python program...\n",
      "50\n",
      "mprof: Sampling memory every 0.1s\n",
      "running as a Python program...\n",
      "100\n",
      "mprof: Sampling memory every 0.1s\n",
      "running as a Python program...\n",
      "250\n",
      "mprof: Sampling memory every 0.1s\n",
      "running as a Python program...\n",
      "500\n",
      "mprof: Sampling memory every 0.1s\n",
      "running as a Python program...\n",
      "1000\n",
      "mprof: Sampling memory every 0.1s\n",
      "running as a Python program...\n",
      "5000\n",
      "mprof: Sampling memory every 0.1s\n",
      "running as a Python program...\n",
      "10000\n",
      "mprof: Sampling memory every 0.1s\n",
      "running as a Python program...\n",
      "20000\n",
      "mprof: Sampling memory every 0.1s\n",
      "running as a Python program...\n",
      "30000\n",
      "mprof: Sampling memory every 0.1s\n",
      "running as a Python program...\n",
      "40000\n",
      "mprof: Sampling memory every 0.1s\n",
      "running as a Python program...\n",
      "50000\n",
      "mprof: Sampling memory every 0.1s\n",
      "running as a Python program...\n",
      "60000\n",
      "mprof: Sampling memory every 0.1s\n",
      "running as a Python program...\n",
      "70000\n",
      "mprof: Sampling memory every 0.1s\n",
      "running as a Python program...\n",
      "80000\n",
      "mprof: Sampling memory every 0.1s\n",
      "running as a Python program...\n",
      "90000\n",
      "mprof: Sampling memory every 0.1s\n",
      "running as a Python program...\n",
      "100000\n",
      "mprof: Sampling memory every 0.1s\n",
      "running as a Python program...\n"
     ]
    },
    {
     "name": "stderr",
     "output_type": "stream",
     "text": [
      "mv: target 'mprofile_20190226122424.dat' is not a directory\n",
      "mv: target 'mprofile_20190226122426.dat' is not a directory\n",
      "mv: target 'mprofile_20190226122428.dat' is not a directory\n",
      "mv: target 'mprofile_20190226122430.dat' is not a directory\n",
      "mv: target 'mprofile_20190226122432.dat' is not a directory\n",
      "mv: target 'mprofile_20190226122434.dat' is not a directory\n",
      "mv: target 'mprofile_20190226122436.dat' is not a directory\n",
      "mv: target 'mprofile_20190226122438.dat' is not a directory\n",
      "mv: target 'mprofile_20190226122440.dat' is not a directory\n",
      "mv: target 'mprofile_20190226122442.dat' is not a directory\n",
      "mv: target 'mprofile_20190226122444.dat' is not a directory\n",
      "mv: target 'mprofile_20190226122446.dat' is not a directory\n",
      "mv: target 'mprofile_20190226122448.dat' is not a directory\n",
      "mv: target 'mprofile_20190226122450.dat' is not a directory\n",
      "mv: target 'mprofile_20190226122453.dat' is not a directory\n",
      "mv: target 'mprofile_20190226122456.dat' is not a directory\n",
      "mv: target 'mprofile_20190226122459.dat' is not a directory\n",
      "mv: target 'mprofile_20190226122502.dat' is not a directory\n",
      "mv: target 'mprofile_20190226122505.dat' is not a directory\n"
     ]
    }
   ],
   "source": [
    "%%bash\n",
    "cd ~/Documents/3rd-Year-Project\n",
    "number_of_packets=[1000 5000 10000 20000 30000 40000 50000 60000 70000 80000 90000 100000]\n",
    "for x in \"${number_of_packets[@]}\"\n",
    "do\n",
    "    echo $x\n",
    "    mprof run real_time_deanonymization.py -n $x\n",
    "    match=$(ls | grep \"mprofile_[0-9]*.dat\")\n",
    "    mv $match  ~/Documents/3rd-Year-Project/time_based_tests/$match\n",
    "done\n",
    "    \n",
    "\n"
   ]
  },
  {
   "cell_type": "code",
   "execution_count": 14,
   "metadata": {},
   "outputs": [
    {
     "name": "stdout",
     "output_type": "stream",
     "text": [
      "mprof: Sampling memory every 0.1s\n",
      "running as a Python program...\n"
     ]
    }
   ],
   "source": [
    "%%bash\n",
    "cd ~/Documents/3rd-Year-Project\n",
    "mprof run real_time_deanonymization.py -n 100000\n",
    "match=$(ls | grep \"mprofile_[0-9]*.dat\")\n",
    "mv $match  ~/Documents/3rd-Year-Project/time_based_tests/$match"
   ]
  },
  {
   "cell_type": "code",
   "execution_count": 15,
   "metadata": {},
   "outputs": [
    {
     "name": "stdout",
     "output_type": "stream",
     "text": [
      "Using last profile data.\n"
     ]
    }
   ],
   "source": [
    "%%bash\n",
    "cd ~/Documents/3rd-Year-Project/time_based_tests/\n",
    "mprof plot -o result.png --backend agg"
   ]
  },
  {
   "cell_type": "markdown",
   "metadata": {},
   "source": [
    "![alt text](../time_based_tests/result.png \"Logo Title Text 1\")"
   ]
  },
  {
   "cell_type": "markdown",
   "metadata": {},
   "source": [
    "# Global Probe requests\n",
    "\n"
   ]
  },
  {
   "cell_type": "code",
   "execution_count": 1,
   "metadata": {},
   "outputs": [],
   "source": [
    "%qtconsole "
   ]
  },
  {
   "cell_type": "code",
   "execution_count": 2,
   "metadata": {},
   "outputs": [],
   "source": [
    "import pprint\n",
    "import numpy as np\n",
    "from memory_profiler import profile\n",
    "import matplotlib.pyplot as plt\n",
    "import sys\n",
    "sys.path.append('../')\n",
    "from real_time_deanonymization_3 import get_frames as get_frames_3\n",
    "import global_mac_randomiser"
   ]
  },
  {
   "cell_type": "code",
   "execution_count": 3,
   "metadata": {},
   "outputs": [],
   "source": [
    "def run_test_2(number_of_packets,database,comparison_db):\n",
    "    results = []\n",
    "    for x in number_of_packets:\n",
    "        result  = %timeit -r 3 -n 7 -c -o get_frames_3(x,database = database); \n",
    "        results.append(result)\n",
    "    return results "
   ]
  },
  {
   "cell_type": "code",
   "execution_count": 4,
   "metadata": {},
   "outputs": [
    {
     "name": "stdout",
     "output_type": "stream",
     "text": [
      "10.4 ms ± 1.43 ms per loop (mean ± std. dev. of 3 runs, 7 loops each)\n",
      "37.7 ms ± 1.25 ms per loop (mean ± std. dev. of 3 runs, 7 loops each)\n",
      "92.3 ms ± 4.82 ms per loop (mean ± std. dev. of 3 runs, 7 loops each)\n",
      "161 ms ± 9.75 ms per loop (mean ± std. dev. of 3 runs, 7 loops each)\n",
      "238 ms ± 1.5 ms per loop (mean ± std. dev. of 3 runs, 7 loops each)\n",
      "356 ms ± 1.07 ms per loop (mean ± std. dev. of 3 runs, 7 loops each)\n",
      "511 ms ± 864 µs per loop (mean ± std. dev. of 3 runs, 7 loops each)\n",
      "668 ms ± 38.4 ms per loop (mean ± std. dev. of 3 runs, 7 loops each)\n",
      "875 ms ± 56.2 ms per loop (mean ± std. dev. of 3 runs, 7 loops each)\n",
      "1.03 s ± 21.1 ms per loop (mean ± std. dev. of 3 runs, 7 loops each)\n",
      "1.15 s ± 31.2 ms per loop (mean ± std. dev. of 3 runs, 7 loops each)\n",
      "1.3 s ± 21 ms per loop (mean ± std. dev. of 3 runs, 7 loops each)\n"
     ]
    },
    {
     "data": {
      "text/plain": [
       "Text(0.5, 0, 'Number of Packets')"
      ]
     },
     "execution_count": 4,
     "metadata": {},
     "output_type": "execute_result"
    },
    {
     "data": {
      "image/png": "[encoded data removed]",
      "text/plain": [
       "<Figure size 432x288 with 1 Axes>"
      ]
     },
     "metadata": {
      "needs_background": "light"
     },
     "output_type": "display_data"
    }
   ],
   "source": [
    "number_of_packets = [1000,5000,10000,20000,30000,40000,50000,60000\n",
    "                    ,70000,80000,90000,100000];\n",
    "\n",
    "results = run_test_2(number_of_packets,'mac_research','mac_research')\n",
    "worst_case_times = [x.worst for x in results]\n",
    "stdev = [x.stdev for x in results]\n",
    "\n",
    "plt.figure()\n",
    "plt.title(\"Stantard Deviation vs number of packets\")\n",
    "plt.plot(number_of_packets, worst_case_times)\n",
    "plt.xlabel(\"Number of Packets\")\n"
   ]
  },
  {
   "cell_type": "code",
   "execution_count": 15,
   "metadata": {},
   "outputs": [
    {
     "data": {
      "text/plain": [
       "<matplotlib.legend.Legend at 0x7f7386adb710>"
      ]
     },
     "execution_count": 15,
     "metadata": {},
     "output_type": "execute_result"
    }
   ],
   "source": [
    "%matplotlib qt\n",
    "\n",
    "X = np.linspace(1000,100000,20)\n",
    "y = [(9.328e-11)*x**2 +5.032e-06*x + 0.0148 for x in X]\n",
    "y_2 = [6.029e-10*(x**2) + -1.222e-05*x +0.2793 for x in X]\n",
    "plt.plot(number_of_packets, worst_case_times,'rx',label=\"Timing Data\")\n",
    "plt.plot(X,y,'b',label=\"Global Algorithm\")\n",
    "plt.plot(X,y_2,'c',label=\"Original Algorithm\")\n",
    "plt.title('Execution time vs number of Probe Requests')\n",
    "plt.xlabel(\"Number of Probe Requests\")\n",
    "plt.ylabel(\"Time (seconds)\");\n",
    "plt.rcParams.update({'font.size': 12})\n",
    "plt.legend(bbox_to_anchor=(1, 1),\n",
    "           bbox_transform=plt.gcf().transFigure)"
   ]
  },
  {
   "cell_type": "code",
   "execution_count": null,
   "metadata": {},
   "outputs": [],
   "source": []
  }
 ],
 "metadata": {
  "kernelspec": {
   "display_name": "Python 3",
   "language": "python",
   "name": "python3"
  },
  "language_info": {
   "codemirror_mode": {
    "name": "ipython",
    "version": 3
   },
   "file_extension": ".py",
   "mimetype": "text/x-python",
   "name": "python",
   "nbconvert_exporter": "python",
   "pygments_lexer": "ipython3",
   "version": "3.7.3"
  },
  "varInspector": {
   "cols": {
    "lenName": 16,
    "lenType": 16,
    "lenVar": 40
   },
   "kernels_config": {
    "python": {
     "delete_cmd_postfix": "",
     "delete_cmd_prefix": "del ",
     "library": "var_list.py",
     "varRefreshCmd": "print(var_dic_list())"
    },
    "r": {
     "delete_cmd_postfix": ") ",
     "delete_cmd_prefix": "rm(",
     "library": "var_list.r",
     "varRefreshCmd": "cat(var_dic_list()) "
    }
   },
   "types_to_exclude": [
    "module",
    "function",
    "builtin_function_or_method",
    "instance",
    "_Feature"
   ],
   "window_display": false
  }
 },
 "nbformat": 4,
 "nbformat_minor": 1
}
